{
 "cells": [
  {
   "cell_type": "code",
   "execution_count": 1,
   "metadata": {},
   "outputs": [
    {
     "name": "stdout",
     "output_type": "stream",
     "text": [
      "819\n",
      "(256, 256, 3)\n"
     ]
    }
   ],
   "source": [
    "import matplotlib.pyplot as plt\n",
    "import matplotlib.image as mpimg\n",
    "import numpy as np\n",
    "from os import walk\n",
    "\n",
    "#this array will contain the RGB images\n",
    "imgs = []\n",
    "\n",
    "f = []\n",
    "for (dirpath, dirnames, filenames) in walk('pokemon'):\n",
    "    f.extend(filenames)\n",
    "\n",
    "for src in f:\n",
    "    #read PNG images and convert them to RGB tensors\n",
    "    img = mpimg.imread('pokemon\\\\'+src)[:,:,0:3]\n",
    "    imgs.append(img)\n",
    "    \n",
    "imgs = np.array(imgs)\n",
    "    \n",
    "print(len(imgs))\n",
    "print(imgs[0].shape)\n",
    "    \n",
    "#plot the images\n",
    "fig, axs = plt.subplots(5, 5, figsize = (10,10))\n",
    "for i in range(5):\n",
    "    for j in range(5):\n",
    "        axs[i,j].imshow(imgs[i*5+j])        "
   ]
  },
  {
   "cell_type": "code",
   "execution_count": 10,
   "metadata": {},
   "outputs": [],
   "source": [
    "import cv2\n",
    "\n",
    "# resize images\n",
    "for file in f:\n",
    "    img = cv2.imread('pokemon/' + file)\n",
    "    img = cv2.resize(img, dsize=(64, 64), interpolation=cv2.INTER_CUBIC)\n",
    "    cv2.imwrite('pokemon_small/' + file, img)"
   ]
  },
  {
   "cell_type": "code",
   "execution_count": null,
   "metadata": {},
   "outputs": [],
   "source": []
  }
 ],
 "metadata": {
  "kernelspec": {
   "display_name": "Python 3",
   "language": "python",
   "name": "python3"
  },
  "language_info": {
   "codemirror_mode": {
    "name": "ipython",
    "version": 3
   },
   "file_extension": ".py",
   "mimetype": "text/x-python",
   "name": "python",
   "nbconvert_exporter": "python",
   "pygments_lexer": "ipython3",
   "version": "3.7.3"
  }
 },
 "nbformat": 4,
 "nbformat_minor": 2
}
